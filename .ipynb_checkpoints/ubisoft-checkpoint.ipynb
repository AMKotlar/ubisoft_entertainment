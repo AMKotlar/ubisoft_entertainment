{
 "cells": [
  {
   "cell_type": "code",
   "execution_count": 10,
   "id": "bc96938d-c65a-4693-a3de-0bdd7e7b1836",
   "metadata": {},
   "outputs": [
    {
     "name": "stdout",
     "output_type": "stream",
     "text": [
      "Collecting openpyxl\n",
      "  Using cached openpyxl-3.1.2-py2.py3-none-any.whl (249 kB)\n",
      "Collecting et-xmlfile (from openpyxl)\n",
      "  Using cached et_xmlfile-1.1.0-py3-none-any.whl (4.7 kB)\n",
      "Installing collected packages: et-xmlfile, openpyxl\n",
      "Successfully installed et-xmlfile-1.1.0 openpyxl-3.1.2\n"
     ]
    },
    {
     "name": "stderr",
     "output_type": "stream",
     "text": [
      "\n",
      "[notice] A new release of pip is available: 23.1.2 -> 23.2.1\n",
      "[notice] To update, run: python.exe -m pip install --upgrade pip\n"
     ]
    }
   ],
   "source": [
    "import os\n",
    "os.getcwd()"
   ]
  },
  {
   "cell_type": "code",
   "execution_count": 5,
   "id": "3943c61a-d695-4baa-b74e-e233d9e20057",
   "metadata": {},
   "outputs": [
    {
     "data": {
      "text/plain": [
       "'\\nticker_symbol = \"UBI.PA\"\\nsp500_symbol = \"^GSPC\"\\n\\nstart_date = \"2020-01-01\"\\nend_date = \"2023-10-01\"\\n\\n# Download historical stock price data\\nubisoft_data = yf.download(ticker_symbol, start=start_date, end=end_date)\\nsp500_data = yf.download(sp500_symbol, start=start_date, end=end_date)\\n\\ndesktop_path = \"~/Desktop\"  .\\nfile_path = f\"{desktop_path}/{file_name}\"\\nfile_path2 = f\"{desktop_path}/{file_nameSP}\"\\n'"
      ]
     },
     "execution_count": 5,
     "metadata": {},
     "output_type": "execute_result"
    }
   ],
   "source": [
    "#!pip install scipy\n",
    "import yfinance as yf\n",
    "import pandas as pd\n",
    "from scipy import stats\n",
    "import numpy as np\n",
    "\n",
    "# if you want to download data\n",
    "'''\n",
    "ticker_symbol = \"UBI.PA\"\n",
    "sp500_symbol = \"^GSPC\"\n",
    "\n",
    "start_date = \"2020-01-01\"\n",
    "end_date = \"2023-10-01\"\n",
    "\n",
    "# Download historical stock price data\n",
    "ubisoft_data = yf.download(ticker_symbol, start=start_date, end=end_date)\n",
    "sp500_data = yf.download(sp500_symbol, start=start_date, end=end_date)\n",
    "\n",
    "desktop_path = \"~/Desktop\"  .\n",
    "file_path = f\"{desktop_path}/{file_name}\"\n",
    "file_path2 = f\"{desktop_path}/{file_nameSP}\"\n",
    "file_name = \"ubisoft_stock_data.xlsx\"\n",
    "file_nameSP = \"SP500.xlsx\"\n",
    "ubisoft_data.to_excel(file_path)\n",
    "sp500_data.to_excel(file_path2)\n",
    "print(ubisoft_data.head())\n",
    "print(f\"Data saved as {file_path}\")\n",
    "ubisoft_info = yf.Ticker(ticker_symbol)\n",
    "ubisoft_info.info\n",
    "'''\n"
   ]
  },
  {
   "cell_type": "code",
   "execution_count": 17,
   "id": "a938ace3-ec5c-4ea9-a097-c2e0a71cd7d4",
   "metadata": {},
   "outputs": [],
   "source": [
    "ubisoft_data = pd.read_excel('ubisoft_stock_data.xlsx')\n",
    "sp500_data = pd.read_excel('SP500.xlsx')"
   ]
  },
  {
   "cell_type": "code",
   "execution_count": 18,
   "id": "ce76a288-db35-4b03-a3b6-1da2e3d6d91f",
   "metadata": {},
   "outputs": [
    {
     "data": {
      "text/plain": [
       "0.0875910938869417"
      ]
     },
     "execution_count": 18,
     "metadata": {},
     "output_type": "execute_result"
    }
   ],
   "source": [
    "#daily returns for Ubisoft Entertainment and the S&P 500\n",
    "ubisoft_returns = ubisoft_data[\"Adj Close\"].pct_change().dropna()\n",
    "sp500_returns = sp500_data[\"Adj Close\"].pct_change().dropna()\n",
    "\n",
    "#covariance between Ubisoft Entertainment returns and S&P 500 returns\n",
    "covariance = ubisoft_returns.cov(sp500_returns)\n",
    "\n",
    "#variance of S&P 500 returns\n",
    "market_variance = sp500_returns.var()\n",
    "\n",
    "beta = covariance / market_variance\n",
    "beta"
   ]
  }
 ],
 "metadata": {
  "kernelspec": {
   "display_name": "Python 3 (ipykernel)",
   "language": "python",
   "name": "python3"
  },
  "language_info": {
   "codemirror_mode": {
    "name": "ipython",
    "version": 3
   },
   "file_extension": ".py",
   "mimetype": "text/x-python",
   "name": "python",
   "nbconvert_exporter": "python",
   "pygments_lexer": "ipython3",
   "version": "3.11.4"
  }
 },
 "nbformat": 4,
 "nbformat_minor": 5
}
